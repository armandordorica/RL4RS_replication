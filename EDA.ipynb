{
 "cells": [
  {
   "cell_type": "code",
   "execution_count": 2,
   "id": "ed5a07b3",
   "metadata": {},
   "outputs": [],
   "source": [
    "# # RL4RS Exploratory Data Analysis\n",
    "\n",
    "# This notebook performs exploratory data analysis on the RL4RS datasets.\n",
    "\n",
    "# ## Environment Setup\n",
    "# Make sure the `rl4rs` conda environment is activated and selected as the kernel for this notebook."
   ]
  },
  {
   "cell_type": "code",
   "execution_count": 1,
   "id": "a4881c48",
   "metadata": {},
   "outputs": [
    {
     "name": "stdout",
     "output_type": "stream",
     "text": [
      "✓ Libraries imported successfully!\n",
      "Pandas version: 2.0.3\n",
      "NumPy version: 1.24.3\n"
     ]
    }
   ],
   "source": [
    "# Import required libraries\n",
    "import pandas as pd\n",
    "import numpy as np\n",
    "import matplotlib.pyplot as plt\n",
    "import seaborn as sns\n",
    "\n",
    "# Set plotting style\n",
    "sns.set_style(\"whitegrid\")\n",
    "plt.rcParams['figure.figsize'] = (12, 6)\n",
    "\n",
    "print(\"✓ Libraries imported successfully!\")\n",
    "print(f\"Pandas version: {pd.__version__}\")\n",
    "print(f\"NumPy version: {np.__version__}\")"
   ]
  },
  {
   "cell_type": "code",
   "execution_count": 5,
   "id": "a8e9fc63",
   "metadata": {},
   "outputs": [
    {
     "name": "stdout",
     "output_type": "stream",
     "text": [
      "EDA.ipynb              \u001b[34massets\u001b[m\u001b[m/                \u001b[34mrl4rs\u001b[m\u001b[m/\n",
      "ENVIRONMENT_SETUP.md   \u001b[34mdataset\u001b[m\u001b[m/               \u001b[34mscript\u001b[m\u001b[m/\n",
      "LICENSE                environment.yml        test_environment.py\n",
      "README.md              environment_macos.yml  tutorial.ipynb\n",
      "RL4RS_appendix.pdf     index.html\n",
      "activate_rl4rs.sh      \u001b[34mreproductions\u001b[m\u001b[m/\n"
     ]
    }
   ],
   "source": [
    "ls"
   ]
  },
  {
   "cell_type": "markdown",
   "id": "046ae855",
   "metadata": {},
   "source": [
    "## Load Item Information Dataset\n",
    "\n",
    "Let's start by loading the item information dataset which contains metadata about the items."
   ]
  },
  {
   "cell_type": "code",
   "execution_count": 6,
   "id": "37fec868",
   "metadata": {},
   "outputs": [
    {
     "data": {
      "text/plain": [
       "'/Users/armandoordoricadelatorre/Documents/U of T/PhD/PhD Research/RL4RS/RL4RS'"
      ]
     },
     "execution_count": 6,
     "metadata": {},
     "output_type": "execute_result"
    }
   ],
   "source": [
    "pwd"
   ]
  },
  {
   "cell_type": "code",
   "execution_count": 8,
   "id": "7b3a0bfb",
   "metadata": {},
   "outputs": [
    {
     "name": "stdout",
     "output_type": "stream",
     "text": [
      "EDA.ipynb              \u001b[34massets\u001b[m\u001b[m/                \u001b[34mrl4rs\u001b[m\u001b[m/\n",
      "ENVIRONMENT_SETUP.md   \u001b[34mdataset\u001b[m\u001b[m/               \u001b[34mscript\u001b[m\u001b[m/\n",
      "LICENSE                environment.yml        test_environment.py\n",
      "README.md              environment_macos.yml  tutorial.ipynb\n",
      "RL4RS_appendix.pdf     index.html\n",
      "activate_rl4rs.sh      \u001b[34mreproductions\u001b[m\u001b[m/\n"
     ]
    }
   ],
   "source": [
    "ls"
   ]
  },
  {
   "cell_type": "code",
   "execution_count": 13,
   "id": "802c5409",
   "metadata": {},
   "outputs": [
    {
     "name": "stdout",
     "output_type": "stream",
     "text": [
      "Dataset shape: (283, 5)\n",
      "Number of items: 283\n",
      "\n",
      "Column names: ['item_id', 'item_vec', 'price', 'location', 'special_item']\n",
      "\n",
      "Data types:\n",
      "item_id           int64\n",
      "item_vec         object\n",
      "price           float64\n",
      "location          int64\n",
      "special_item      int64\n",
      "dtype: object\n",
      "\n",
      "First few rows:\n"
     ]
    },
    {
     "data": {
      "text/html": [
       "<div>\n",
       "<style scoped>\n",
       "    .dataframe tbody tr th:only-of-type {\n",
       "        vertical-align: middle;\n",
       "    }\n",
       "\n",
       "    .dataframe tbody tr th {\n",
       "        vertical-align: top;\n",
       "    }\n",
       "\n",
       "    .dataframe thead th {\n",
       "        text-align: right;\n",
       "    }\n",
       "</style>\n",
       "<table border=\"1\" class=\"dataframe\">\n",
       "  <thead>\n",
       "    <tr style=\"text-align: right;\">\n",
       "      <th></th>\n",
       "      <th>item_id</th>\n",
       "      <th>item_vec</th>\n",
       "      <th>price</th>\n",
       "      <th>location</th>\n",
       "      <th>special_item</th>\n",
       "    </tr>\n",
       "  </thead>\n",
       "  <tbody>\n",
       "    <tr>\n",
       "      <th>0</th>\n",
       "      <td>1</td>\n",
       "      <td>-0.2137,-0.0489,-0.3633,-0.1349,1.8061,0.4482,...</td>\n",
       "      <td>7.0</td>\n",
       "      <td>1</td>\n",
       "      <td>0</td>\n",
       "    </tr>\n",
       "    <tr>\n",
       "      <th>1</th>\n",
       "      <td>2</td>\n",
       "      <td>-0.2137,-0.7579,-0.3633,-0.1377,1.5852,-0.9129...</td>\n",
       "      <td>13.1</td>\n",
       "      <td>1</td>\n",
       "      <td>0</td>\n",
       "    </tr>\n",
       "    <tr>\n",
       "      <th>2</th>\n",
       "      <td>3</td>\n",
       "      <td>-0.2137,2.0783,-0.3633,-0.142,1.372,-0.6294,-1...</td>\n",
       "      <td>14.6</td>\n",
       "      <td>1</td>\n",
       "      <td>0</td>\n",
       "    </tr>\n",
       "    <tr>\n",
       "      <th>3</th>\n",
       "      <td>4</td>\n",
       "      <td>-0.2137,-0.7579,-0.3633,-0.1423,1.7014,-0.2719...</td>\n",
       "      <td>13.4</td>\n",
       "      <td>1</td>\n",
       "      <td>0</td>\n",
       "    </tr>\n",
       "    <tr>\n",
       "      <th>4</th>\n",
       "      <td>5</td>\n",
       "      <td>-0.2137,-0.7579,-0.3633,-0.1352,1.3293,-0.7099...</td>\n",
       "      <td>12.8</td>\n",
       "      <td>1</td>\n",
       "      <td>0</td>\n",
       "    </tr>\n",
       "  </tbody>\n",
       "</table>\n",
       "</div>"
      ],
      "text/plain": [
       "   item_id                                           item_vec  price  \\\n",
       "0        1  -0.2137,-0.0489,-0.3633,-0.1349,1.8061,0.4482,...    7.0   \n",
       "1        2  -0.2137,-0.7579,-0.3633,-0.1377,1.5852,-0.9129...   13.1   \n",
       "2        3  -0.2137,2.0783,-0.3633,-0.142,1.372,-0.6294,-1...   14.6   \n",
       "3        4  -0.2137,-0.7579,-0.3633,-0.1423,1.7014,-0.2719...   13.4   \n",
       "4        5  -0.2137,-0.7579,-0.3633,-0.1352,1.3293,-0.7099...   12.8   \n",
       "\n",
       "   location  special_item  \n",
       "0         1             0  \n",
       "1         1             0  \n",
       "2         1             0  \n",
       "3         1             0  \n",
       "4         1             0  "
      ]
     },
     "metadata": {},
     "output_type": "display_data"
    },
    {
     "name": "stdout",
     "output_type": "stream",
     "text": [
      "\n",
      "Sample item_vec (first item):\n",
      "-0.2137,-0.0489,-0.3633,-0.1349,1.8061,0.4482,-1.8973,-1.7259,0.4035,-1.5086,-1.5189,-1.4673,-1.2481,-1.2081,-0.2745,-0.2303,-1.622,0.3304,0.4923,-1.2716,-0.5764,1.4189,1.1158,0.4944,0.0253,-0.8038,1.5981,-1.0421,1.2316,0.7456,0.3724,-0.402,1.1648,-0.1391,1.1556,-0.6094,-0.8756,-0.0815,1.2836,1.2644\n"
     ]
    }
   ],
   "source": [
    "# Load item information\n",
    "# Note: The file uses space separator, and item_vec is a comma-separated string\n",
    "item_info_path = \"dataset/item_info.csv\"\n",
    "item_info = pd.read_csv(item_info_path, sep=' ')\n",
    "\n",
    "print(f\"Dataset shape: {item_info.shape}\")\n",
    "print(f\"Number of items: {len(item_info)}\")\n",
    "print(f\"\\nColumn names: {list(item_info.columns)}\")\n",
    "print(f\"\\nData types:\")\n",
    "print(item_info.dtypes)\n",
    "print(f\"\\nFirst few rows:\")\n",
    "display(item_info.head())\n",
    "\n",
    "# Show a sample of the item_vec to understand its format\n",
    "print(f\"\\nSample item_vec (first item):\")\n",
    "print(item_info['item_vec'].iloc[0])"
   ]
  },
  {
   "cell_type": "code",
   "execution_count": null,
   "id": "9d1928ce",
   "metadata": {},
   "outputs": [],
   "source": []
  }
 ],
 "metadata": {
  "kernelspec": {
   "display_name": "rl4rs",
   "language": "python",
   "name": "python3"
  },
  "language_info": {
   "codemirror_mode": {
    "name": "ipython",
    "version": 3
   },
   "file_extension": ".py",
   "mimetype": "text/x-python",
   "name": "python",
   "nbconvert_exporter": "python",
   "pygments_lexer": "ipython3",
   "version": "3.8.20"
  }
 },
 "nbformat": 4,
 "nbformat_minor": 5
}
